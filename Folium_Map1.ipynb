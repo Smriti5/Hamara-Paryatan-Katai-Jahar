{
  "nbformat": 4,
  "nbformat_minor": 0,
  "metadata": {
    "colab": {
      "name": "Folium Map1",
      "version": "0.3.2",
      "provenance": [],
      "collapsed_sections": [],
      "include_colab_link": true
    },
    "kernelspec": {
      "name": "python3",
      "display_name": "Python 3"
    }
  },
  "cells": [
    {
      "cell_type": "markdown",
      "metadata": {
        "id": "view-in-github",
        "colab_type": "text"
      },
      "source": [
        "<a href=\"https://colab.research.google.com/github/Smriti5/Hamara-Paryatan-Katai-Jahar/blob/master/Folium_Map1.ipynb\" target=\"_parent\"><img src=\"https://colab.research.google.com/assets/colab-badge.svg\" alt=\"Open In Colab\"/></a>"
      ]
    },
    {
      "cell_type": "code",
      "metadata": {
        "id": "fB08HLeoh47Q",
        "colab_type": "code",
        "colab": {}
      },
      "source": [
        "import os\n",
        "import folium\n",
        "import json\n",
        "tooltip='Click for more info'\n",
        "vis=os.path.join('new1.json')"
      ],
      "execution_count": 0,
      "outputs": []
    },
    {
      "cell_type": "code",
      "metadata": {
        "id": "VY7ZyZw5in55",
        "colab_type": "code",
        "outputId": "ce0be08b-6ff0-4e6d-95ae-dcdf98ac5f8c",
        "colab": {
          "base_uri": "https://localhost:8080/",
          "height": 34
        }
      },
      "source": [
        "m=folium.Map(location=[26.924812,75.8245935],zoom_start=60)\n",
        "folium.Marker(\n",
        "    [26.924550,75.824877],\n",
        "    popup='<strong>Location One</strong>',\n",
        "    tooltip=tooltip\n",
        ").add_to(m),\n",
        "folium.Marker(\n",
        "    [26.924999,75.824606],\n",
        "    popup=folium.Popup(max_width=420).add_child(folium.Vega(json.load(open(vis))))\n",
        ").add_to(m),"
      ],
      "execution_count": 2,
      "outputs": [
        {
          "output_type": "execute_result",
          "data": {
            "text/plain": [
              "(<folium.map.Marker at 0x7f2d28d6dfd0>,)"
            ]
          },
          "metadata": {
            "tags": []
          },
          "execution_count": 2
        }
      ]
    },
    {
      "cell_type": "code",
      "metadata": {
        "id": "04pwn6WMixhS",
        "colab_type": "code",
        "outputId": "b67efeda-0b90-4772-fe35-92d0fbb5fec5",
        "colab": {
          "base_uri": "https://localhost:8080/",
          "height": 556
        }
      },
      "source": [
        "m"
      ],
      "execution_count": 3,
      "outputs": [
        {
          "output_type": "execute_result",
          "data": {
            "text/html": [
              "<div style=\"width:100%;\"><div style=\"position:relative;width:100%;height:0;padding-bottom:60%;\"><iframe src=\"data:text/html;charset=utf-8;base64,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\" style=\"position:absolute;width:100%;height:100%;left:0;top:0;border:none !important;\" allowfullscreen webkitallowfullscreen mozallowfullscreen></iframe></div></div>"
            ],
            "text/plain": [
              "<folium.folium.Map at 0x7f2d28d6d748>"
            ]
          },
          "metadata": {
            "tags": []
          },
          "execution_count": 3
        }
      ]
    },
    {
      "cell_type": "code",
      "metadata": {
        "id": "nM_YdHGxi0o2",
        "colab_type": "code",
        "colab": {}
      },
      "source": [
        ""
      ],
      "execution_count": 0,
      "outputs": []
    }
  ]
}